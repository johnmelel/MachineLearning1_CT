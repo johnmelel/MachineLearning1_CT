{
 "cells": [
  {
   "cell_type": "code",
   "execution_count": null,
   "metadata": {},
   "outputs": [],
   "source": [
    "from pyspark.sql import SparkSession\n",
    "import os"
   ]
  },
  {
   "cell_type": "code",
   "execution_count": null,
   "metadata": {},
   "outputs": [],
   "source": [
    "os.environ['SPARK_HOME'] = 'C:/Users/John/AppData/Local/Programs/Python/Python312/Lib/site-packages/pyspark'\n",
    "\n",
    "# Initialize Spark session with JDBC driver\n",
    "spark = SparkSession.builder \\\n",
    "    .appName(\"ParquetToMySQL\") \\\n",
    "    .config(\"spark.driver.memory\", \"8g\") \\\n",
    "    .config(\"spark.sql.shuffle.partitions\", \"200\") \\\n",
    "    .config(\"spark.driver.extraClassPath\", \"/path/to/mysql-connector-java-8.0.33.jar\") \\\n",
    "    .getOrCreate()"
   ]
  },
  {
   "cell_type": "code",
   "execution_count": null,
   "metadata": {},
   "outputs": [],
   "source": [
    "# MySQL database connection details\n",
    "db_url = \"jdbc:mysql://localhost:3306/ml1_project\"\n",
    "db_properties = {\n",
    "    \"user\": \"root\",\n",
    "    \"password\": \"rootroot\",\n",
    "    \"driver\": \"com.mysql.cj.jdbc.Driver\"\n",
    "}"
   ]
  },
  {
   "cell_type": "code",
   "execution_count": null,
   "metadata": {},
   "outputs": [],
   "source": [
    "# Directory containing Parquet files\n",
    "parquet_dir = \"../cleaned_data\"\n",
    "\n",
    "# Load all .parquet files in parallel\n",
    "parquet_files = [f for f in os.listdir(parquet_dir) if f.endswith(\".parquet\")]\n",
    "\n",
    "for file in parquet_files:\n",
    "    table_name = file.replace(\".parquet\", \"\")  # Use filename as table name\n",
    "    file_path = os.path.join(parquet_dir, file)\n",
    "    \n",
    "    print(f\"Loading {file_path} into table {table_name}...\")\n",
    "\n",
    "    # Load Parquet file into a Spark DataFrame\n",
    "    df = spark.read.parquet(file_path)\n",
    "\n",
    "    # **Optimize for faster writes**\n",
    "    df = df.repartition(10)  # Reduce partitions for efficient MySQL writes\n",
    "\n",
    "    df.write \\\n",
    "        .format(\"jdbc\") \\\n",
    "        .option(\"url\", db_url) \\\n",
    "        .option(\"dbtable\", table_name) \\\n",
    "        .option(\"user\", db_properties[\"user\"]) \\\n",
    "        .option(\"password\", db_properties[\"password\"]) \\\n",
    "        .option(\"batchsize\", 100000) \\\n",
    "        .option(\"numPartitions\", 10) \\\n",
    "        .mode(\"append\") \\\n",
    "        .save()\n",
    "\n",
    "    print(f\"Successfully loaded {file_path} into {table_name}\")\n",
    "\n",
    "print(\"All Parquet files loaded successfully!\")"
   ]
  },
  {
   "cell_type": "code",
   "execution_count": null,
   "metadata": {},
   "outputs": [],
   "source": [
    "# Stop Spark session\n",
    "spark.stop()"
   ]
  }
 ],
 "metadata": {
  "kernelspec": {
   "display_name": "Python 3",
   "language": "python",
   "name": "python3"
  },
  "language_info": {
   "codemirror_mode": {
    "name": "ipython",
    "version": 3
   },
   "file_extension": ".py",
   "mimetype": "text/x-python",
   "name": "python",
   "nbconvert_exporter": "python",
   "pygments_lexer": "ipython3",
   "version": "3.12.5"
  }
 },
 "nbformat": 4,
 "nbformat_minor": 2
}
